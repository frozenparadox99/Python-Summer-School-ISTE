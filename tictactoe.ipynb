{
 "cells": [
  {
   "cell_type": "code",
   "execution_count": 1,
   "metadata": {},
   "outputs": [],
   "source": [
    "def print_table(b):\n",
    "    print('{} | {} | {}'.format(b[0],b[1],b[2]))\n",
    "    print('{} | {} | {}'.format(b[3],b[4],b[5]))\n",
    "    print('{} | {} | {}'.format(b[6],b[7],b[8]))"
   ]
  },
  {
   "cell_type": "code",
   "execution_count": 2,
   "metadata": {},
   "outputs": [],
   "source": [
    "def check_win_X(b):\n",
    "    if b[0]=='X'and b[1]=='X' and b[2]=='X':\n",
    "        return True \n",
    "    elif b[0]=='X' and b[3]=='X' and b[6]=='X':\n",
    "        return True\n",
    "    elif b[0]=='X'and b[4]=='X' and b[8]=='X':\n",
    "        return True\n",
    "    elif b[1]=='X' and b[4]=='X' and b[7]=='X':\n",
    "        return True\n",
    "    elif b[2]=='X' and b[5]=='X' and b[8]=='X':\n",
    "        return True\n",
    "    elif b[2]=='X' and b[4]=='X' and b[6]=='X':\n",
    "        return True\n",
    "    elif b[3]=='X' and b[4]=='X' and b[5]=='X':\n",
    "        return True\n",
    "    elif b[6]=='X' and b[7]=='X' and b[8]=='X':\n",
    "        return True\n",
    "    else: return False\n",
    "        "
   ]
  },
  {
   "cell_type": "code",
   "execution_count": 3,
   "metadata": {},
   "outputs": [],
   "source": [
    "def check_win_O(b):\n",
    "    if b[0]=='o'and b[1]=='o' and b[2]=='o':\n",
    "        return True \n",
    "    elif b[0]=='o' and b[3]=='o' and b[6]=='o':\n",
    "        return True\n",
    "    elif b[0]=='o'and b[4]=='o' and b[8]=='o':\n",
    "        return True\n",
    "    elif b[1]=='o' and b[4]=='o' and b[7]=='o':\n",
    "        return True\n",
    "    elif b[2]=='o' and b[5]=='o' and b[8]=='o':\n",
    "        return True\n",
    "    elif b[2]=='o' and b[4]=='o' and b[6]=='o':\n",
    "        return True\n",
    "    elif b[3]=='o' and b[4]=='o' and b[5]=='o':\n",
    "        return True\n",
    "    elif b[6]=='o' and b[7]=='o' and b[8]=='o':\n",
    "        return True\n",
    "    else: return False"
   ]
  },
  {
   "cell_type": "code",
   "execution_count": 4,
   "metadata": {},
   "outputs": [],
   "source": [
    "def check_board_full(b):\n",
    "    if not '-' in b:\n",
    "        return True\n",
    "    else:\n",
    "        return False"
   ]
  },
  {
   "cell_type": "code",
   "execution_count": 5,
   "metadata": {},
   "outputs": [],
   "source": [
    "def which_player(a):\n",
    "    if a==1:\n",
    "        print('Player 1 its your turn')\n",
    "    elif a==2:\n",
    "        print('Player 2 its your turn')"
   ]
  },
  {
   "cell_type": "code",
   "execution_count": 25,
   "metadata": {},
   "outputs": [
    {
     "name": "stdout",
     "output_type": "stream",
     "text": [
      "× | × | ×\n",
      "4 | 5 | 6\n",
      "7 | 8 | 9\n"
     ]
    }
   ],
   "source": [
    "print_table([\tu\"\\u00D7\",\tu\"\\u00D7\",\tu\"\\u00D7\",4,5,6,7,8,9])"
   ]
  },
  {
   "cell_type": "code",
   "execution_count": 6,
   "metadata": {},
   "outputs": [
    {
     "name": "stdout",
     "output_type": "stream",
     "text": [
      "Player 1 is X \n",
      "Player 2 is o\n",
      "to quit type: bye\n",
      "- | - | -\n",
      "- | - | -\n",
      "- | - | -\n",
      "Player 1 its your turn\n",
      "Enter the position : 5\n",
      "- | - | -\n",
      "- | X | -\n",
      "- | - | -\n",
      "Player 2 its your turn\n",
      "Enter the position : 2\n",
      "- | o | -\n",
      "- | X | -\n",
      "- | - | -\n",
      "Player 1 its your turn\n",
      "Enter the position : 1\n",
      "X | o | -\n",
      "- | X | -\n",
      "- | - | -\n",
      "Player 2 its your turn\n",
      "Enter the position : 9\n",
      "X | o | -\n",
      "- | X | -\n",
      "- | - | o\n",
      "Player 1 its your turn\n",
      "Enter the position : 7\n",
      "X | o | -\n",
      "- | X | -\n",
      "X | - | o\n",
      "Player 2 its your turn\n",
      "Enter the position : 4\n",
      "X | o | -\n",
      "o | X | -\n",
      "X | - | o\n",
      "Player 1 its your turn\n",
      "Enter the position : 3\n",
      "X | o | X\n",
      "o | X | -\n",
      "X | - | o\n",
      "Player 1 wins\n"
     ]
    }
   ],
   "source": [
    "count=0\n",
    "player=1\n",
    "b=['-','-','-','-','-','-','-','-','-']\n",
    "places_already_filled=[]\n",
    "print('Player 1 is X ')\n",
    "print('Player 2 is o')\n",
    "print('to quit type: bye')\n",
    "while True:\n",
    "    if count==0:\n",
    "        print_table(b)\n",
    "        count=count+1\n",
    "    else:\n",
    "        if not check_board_full(b):\n",
    "            which_player(player)\n",
    "            a=input('Enter the position : ')\n",
    "            if a=='bye':\n",
    "                break\n",
    "            a=int(a)\n",
    "            if not a in range(1,10):\n",
    "                print('Input not valid')\n",
    "                continue\n",
    "            a=a-1\n",
    "            if player==1:\n",
    "                if a in places_already_filled:\n",
    "                    print('oops already filled')\n",
    "                    continue\n",
    "                b[a]='X'\n",
    "                places_already_filled.append(a)\n",
    "                print_table(b)\n",
    "                player=2\n",
    "                if check_win_X(b):\n",
    "                    print('Player 1 wins')\n",
    "                    break\n",
    "            elif player==2:\n",
    "                if a in places_already_filled:\n",
    "                    print('oops already filled')\n",
    "                    continue\n",
    "                places_already_filled.append(a)\n",
    "                b[a]='o'\n",
    "                print_table(b)\n",
    "                player=1\n",
    "                if check_win_X(b):\n",
    "                    print('Player 2 wins')\n",
    "                    break\n",
    "        else:\n",
    "            print('Its a draw')\n",
    "            break\n",
    "            \n",
    "           \n",
    "        \n",
    "        \n",
    "        \n",
    "        \n",
    "        \n"
   ]
  },
  {
   "cell_type": "code",
   "execution_count": null,
   "metadata": {},
   "outputs": [],
   "source": []
  },
  {
   "cell_type": "code",
   "execution_count": null,
   "metadata": {},
   "outputs": [],
   "source": []
  },
  {
   "cell_type": "code",
   "execution_count": 49,
   "metadata": {},
   "outputs": [],
   "source": [
    "tesr=['X','o','o','X','o','X','X','X','-']"
   ]
  },
  {
   "cell_type": "code",
   "execution_count": 50,
   "metadata": {},
   "outputs": [
    {
     "data": {
      "text/plain": [
       "True"
      ]
     },
     "execution_count": 50,
     "metadata": {},
     "output_type": "execute_result"
    }
   ],
   "source": [
    "check_win_X(tesr)"
   ]
  },
  {
   "cell_type": "code",
   "execution_count": 51,
   "metadata": {},
   "outputs": [
    {
     "data": {
      "text/plain": [
       "False"
      ]
     },
     "execution_count": 51,
     "metadata": {},
     "output_type": "execute_result"
    }
   ],
   "source": [
    "check_win_O(tesr)"
   ]
  },
  {
   "cell_type": "code",
   "execution_count": 52,
   "metadata": {},
   "outputs": [
    {
     "data": {
      "text/plain": [
       "False"
      ]
     },
     "execution_count": 52,
     "metadata": {},
     "output_type": "execute_result"
    }
   ],
   "source": [
    "check_board_full(tesr)"
   ]
  },
  {
   "cell_type": "code",
   "execution_count": null,
   "metadata": {},
   "outputs": [],
   "source": []
  },
  {
   "cell_type": "code",
   "execution_count": 7,
   "metadata": {},
   "outputs": [],
   "source": [
    "\n"
   ]
  },
  {
   "cell_type": "code",
   "execution_count": null,
   "metadata": {},
   "outputs": [],
   "source": []
  },
  {
   "cell_type": "code",
   "execution_count": null,
   "metadata": {},
   "outputs": [],
   "source": []
  },
  {
   "cell_type": "code",
   "execution_count": null,
   "metadata": {},
   "outputs": [],
   "source": [
    "\n"
   ]
  },
  {
   "cell_type": "code",
   "execution_count": null,
   "metadata": {},
   "outputs": [],
   "source": []
  },
  {
   "cell_type": "code",
   "execution_count": null,
   "metadata": {},
   "outputs": [],
   "source": []
  }
 ],
 "metadata": {
  "kernelspec": {
   "display_name": "Python 3",
   "language": "python",
   "name": "python3"
  },
  "language_info": {
   "codemirror_mode": {
    "name": "ipython",
    "version": 3
   },
   "file_extension": ".py",
   "mimetype": "text/x-python",
   "name": "python",
   "nbconvert_exporter": "python",
   "pygments_lexer": "ipython3",
   "version": "3.7.3"
  }
 },
 "nbformat": 4,
 "nbformat_minor": 2
}
