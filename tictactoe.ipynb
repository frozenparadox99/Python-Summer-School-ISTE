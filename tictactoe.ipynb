{
 "cells": [
  {
   "cell_type": "code",
   "execution_count": 1,
   "metadata": {},
   "outputs": [],
   "source": [
    "def print_table(b):\n",
    "    print('{} | {} | {}'.format(b[0],b[1],b[2]))\n",
    "    print('{} | {} | {}'.format(b[3],b[4],b[5]))\n",
    "    print('{} | {} | {}'.format(b[6],b[7],b[8]))"
   ]
  },
  {
   "cell_type": "code",
   "execution_count": 2,
   "metadata": {},
   "outputs": [],
   "source": [
    "def check_win_X(b):\n",
    "    if b[0]=='X'and b[1]=='X' and b[2]=='X':\n",
    "        return True \n",
    "    elif b[0]=='X' and b[3]=='X' and b[6]=='X':\n",
    "        return True\n",
    "    elif b[0]=='X'and b[4]=='X' and b[8]=='X':\n",
    "        return True\n",
    "    elif b[1]=='X' and b[4]=='X' and b[7]=='X':\n",
    "        return True\n",
    "    elif b[2]=='X' and b[5]=='X' and b[8]=='X':\n",
    "        return True\n",
    "    elif b[2]=='X' and b[4]=='X' and b[6]=='X':\n",
    "        return True\n",
    "    elif b[3]=='X' and b[4]=='X' and b[5]=='X':\n",
    "        return True\n",
    "    elif b[6]=='X' and b[7]=='X' and b[8]=='X':\n",
    "        return True\n",
    "    else: return False\n",
    "        "
   ]
  },
  {
   "cell_type": "code",
   "execution_count": 3,
   "metadata": {},
   "outputs": [],
   "source": [
    "def check_win_O(b):\n",
    "    if b[0]=='o'and b[1]=='o' and b[2]=='o':\n",
    "        return True \n",
    "    elif b[0]=='o' and b[3]=='o' and b[6]=='o':\n",
    "        return True\n",
    "    elif b[0]=='o'and b[4]=='o' and b[8]=='o':\n",
    "        return True\n",
    "    elif b[1]=='o' and b[4]=='o' and b[7]=='o':\n",
    "        return True\n",
    "    elif b[2]=='o' and b[5]=='o' and b[8]=='o':\n",
    "        return True\n",
    "    elif b[2]=='o' and b[4]=='o' and b[6]=='o':\n",
    "        return True\n",
    "    elif b[3]=='o' and b[4]=='o' and b[5]=='o':\n",
    "        return True\n",
    "    elif b[6]=='o' and b[7]=='o' and b[8]=='o':\n",
    "        return True\n",
    "    else: return False"
   ]
  },
  {
   "cell_type": "code",
   "execution_count": 4,
   "metadata": {},
   "outputs": [],
   "source": [
    "def check_board_full(b):\n",
    "    if not '-' in b:\n",
    "        return True\n",
    "    else:\n",
    "        return False"
   ]
  },
  {
   "cell_type": "code",
   "execution_count": 5,
   "metadata": {},
   "outputs": [],
   "source": [
    "def which_player(a):\n",
    "    if a==1:\n",
    "        print('Player 1 its your turn')\n",
    "    elif a==2:\n",
    "        print('Player 2 its your turn')"
   ]
  },
  {
   "cell_type": "code",
   "execution_count": 25,
   "metadata": {},
   "outputs": [
    {
     "name": "stdout",
     "output_type": "stream",
     "text": [
      "× | × | ×\n",
      "4 | 5 | 6\n",
      "7 | 8 | 9\n"
     ]
    }
   ],
   "source": [
    "print_table([\tu\"\\u00D7\",\tu\"\\u00D7\",\tu\"\\u00D7\",4,5,6,7,8,9])"
   ]
  },
  {
   "cell_type": "code",
   "execution_count": 6,
   "metadata": {},
   "outputs": [
    {
     "name": "stdout",
     "output_type": "stream",
     "text": [
      "Player 1 is X \n",
      "Player 2 is o\n",
      "to quit type: bye\n",
      "- | - | -\n",
      "- | - | -\n",
      "- | - | -\n",
      "Player 1 its your turn\n",
      "Enter the position : 5\n",
      "- | - | -\n",
      "- | X | -\n",
      "- | - | -\n",
      "Player 2 its your turn\n",
      "Enter the position : 2\n",
      "- | o | -\n",
      "- | X | -\n",
      "- | - | -\n",
      "Player 1 its your turn\n",
      "Enter the position : 1\n",
      "X | o | -\n",
      "- | X | -\n",
      "- | - | -\n",
      "Player 2 its your turn\n",
      "Enter the position : 9\n",
      "X | o | -\n",
      "- | X | -\n",
      "- | - | o\n",
      "Player 1 its your turn\n",
      "Enter the position : 7\n",
      "X | o | -\n",
      "- | X | -\n",
      "X | - | o\n",
      "Player 2 its your turn\n",
      "Enter the position : 4\n",
      "X | o | -\n",
      "o | X | -\n",
      "X | - | o\n",
      "Player 1 its your turn\n",
      "Enter the position : 3\n",
      "X | o | X\n",
      "o | X | -\n",
      "X | - | o\n",
      "Player 1 wins\n"
     ]
    }
   ],
   "source": [
    "count=0\n",
    "player=1\n",
    "b=['-','-','-','-','-','-','-','-','-']\n",
    "places_already_filled=[]\n",
    "print('Player 1 is X ')\n",
    "print('Player 2 is o')\n",
    "print('to quit type: bye')\n",
    "while True:\n",
    "    if count==0:\n",
    "        print_table(b)\n",
    "        count=count+1\n",
    "    else:\n",
    "        if not check_board_full(b):\n",
    "            which_player(player)\n",
    "            a=input('Enter the position : ')\n",
    "            if a=='bye':\n",
    "                break\n",
    "            a=int(a)\n",
    "            if not a in range(1,10):\n",
    "                print('Input not valid')\n",
    "                continue\n",
    "            a=a-1\n",
    "            if player==1:\n",
    "                if a in places_already_filled:\n",
    "                    print('oops already filled')\n",
    "                    continue\n",
    "                b[a]='X'\n",
    "                places_already_filled.append(a)\n",
    "                print_table(b)\n",
    "                player=2\n",
    "                if check_win_X(b):\n",
    "                    print('Player 1 wins')\n",
    "                    break\n",
    "            elif player==2:\n",
    "                if a in places_already_filled:\n",
    "                    print('oops already filled')\n",
    "                    continue\n",
    "                places_already_filled.append(a)\n",
    "                b[a]='o'\n",
    "                print_table(b)\n",
    "                player=1\n",
    "                if check_win_X(b):\n",
    "                    print('Player 2 wins')\n",
    "                    break\n",
    "        else:\n",
    "            print('Its a draw')\n",
    "            break\n",
    "            \n",
    "           \n",
    "        \n",
    "        \n",
    "        \n",
    "        \n",
    "        \n"
   ]
  },
  {
   "cell_type": "code",
   "execution_count": 16,
   "metadata": {},
   "outputs": [
    {
     "data": {
      "text/plain": [
       "'❌'"
      ]
     },
     "execution_count": 16,
     "metadata": {},
     "output_type": "execute_result"
    }
   ],
   "source": [
    "\tu\"\\u274C\""
   ]
  },
  {
   "cell_type": "code",
   "execution_count": 26,
   "metadata": {},
   "outputs": [
    {
     "name": "stdout",
     "output_type": "stream",
     "text": [
      "True\n"
     ]
    }
   ],
   "source": [
    "l=0\n",
    "print(l==0)"
   ]
  },
  {
   "cell_type": "code",
   "execution_count": 49,
   "metadata": {},
   "outputs": [],
   "source": [
    "tesr=['X','o','o','X','o','X','X','X','-']"
   ]
  },
  {
   "cell_type": "code",
   "execution_count": 50,
   "metadata": {},
   "outputs": [
    {
     "data": {
      "text/plain": [
       "True"
      ]
     },
     "execution_count": 50,
     "metadata": {},
     "output_type": "execute_result"
    }
   ],
   "source": [
    "check_win_X(tesr)"
   ]
  },
  {
   "cell_type": "code",
   "execution_count": 51,
   "metadata": {},
   "outputs": [
    {
     "data": {
      "text/plain": [
       "False"
      ]
     },
     "execution_count": 51,
     "metadata": {},
     "output_type": "execute_result"
    }
   ],
   "source": [
    "check_win_O(tesr)"
   ]
  },
  {
   "cell_type": "code",
   "execution_count": 52,
   "metadata": {},
   "outputs": [
    {
     "data": {
      "text/plain": [
       "False"
      ]
     },
     "execution_count": 52,
     "metadata": {},
     "output_type": "execute_result"
    }
   ],
   "source": [
    "check_board_full(tesr)"
   ]
  },
  {
   "cell_type": "code",
   "execution_count": 62,
   "metadata": {},
   "outputs": [
    {
     "name": "stdout",
     "output_type": "stream",
     "text": [
      "True\n"
     ]
    }
   ],
   "source": [
    "xyz=9\n",
    "print(xyz in range(1,10))"
   ]
  },
  {
   "cell_type": "code",
   "execution_count": 64,
   "metadata": {},
   "outputs": [],
   "source": [
    "xyz='1'\n"
   ]
  },
  {
   "cell_type": "code",
   "execution_count": 65,
   "metadata": {},
   "outputs": [
    {
     "data": {
      "text/plain": [
       "1"
      ]
     },
     "execution_count": 65,
     "metadata": {},
     "output_type": "execute_result"
    }
   ],
   "source": [
    "int(xyz)"
   ]
  },
  {
   "cell_type": "code",
   "execution_count": 69,
   "metadata": {},
   "outputs": [
    {
     "data": {
      "text/plain": [
       "'X'"
      ]
     },
     "execution_count": 69,
     "metadata": {},
     "output_type": "execute_result"
    }
   ],
   "source": [
    "tesr.pop(5)"
   ]
  },
  {
   "cell_type": "code",
   "execution_count": 70,
   "metadata": {},
   "outputs": [
    {
     "data": {
      "text/plain": [
       "['X', 'o', 'o', 'X', 'o', 'X', 'X', '-']"
      ]
     },
     "execution_count": 70,
     "metadata": {},
     "output_type": "execute_result"
    }
   ],
   "source": [
    "tesr\n"
   ]
  },
  {
   "cell_type": "code",
   "execution_count": 72,
   "metadata": {},
   "outputs": [
    {
     "data": {
      "text/plain": [
       "['__add__',\n",
       " '__class__',\n",
       " '__contains__',\n",
       " '__delattr__',\n",
       " '__delitem__',\n",
       " '__dir__',\n",
       " '__doc__',\n",
       " '__eq__',\n",
       " '__format__',\n",
       " '__ge__',\n",
       " '__getattribute__',\n",
       " '__getitem__',\n",
       " '__gt__',\n",
       " '__hash__',\n",
       " '__iadd__',\n",
       " '__imul__',\n",
       " '__init__',\n",
       " '__init_subclass__',\n",
       " '__iter__',\n",
       " '__le__',\n",
       " '__len__',\n",
       " '__lt__',\n",
       " '__mul__',\n",
       " '__ne__',\n",
       " '__new__',\n",
       " '__reduce__',\n",
       " '__reduce_ex__',\n",
       " '__repr__',\n",
       " '__reversed__',\n",
       " '__rmul__',\n",
       " '__setattr__',\n",
       " '__setitem__',\n",
       " '__sizeof__',\n",
       " '__str__',\n",
       " '__subclasshook__',\n",
       " 'append',\n",
       " 'clear',\n",
       " 'copy',\n",
       " 'count',\n",
       " 'extend',\n",
       " 'index',\n",
       " 'insert',\n",
       " 'pop',\n",
       " 'remove',\n",
       " 'reverse',\n",
       " 'sort']"
      ]
     },
     "execution_count": 72,
     "metadata": {},
     "output_type": "execute_result"
    }
   ],
   "source": [
    "dir(tesr)"
   ]
  },
  {
   "cell_type": "code",
   "execution_count": null,
   "metadata": {},
   "outputs": [],
   "source": []
  }
 ],
 "metadata": {
  "kernelspec": {
   "display_name": "Python 3",
   "language": "python",
   "name": "python3"
  },
  "language_info": {
   "codemirror_mode": {
    "name": "ipython",
    "version": 3
   },
   "file_extension": ".py",
   "mimetype": "text/x-python",
   "name": "python",
   "nbconvert_exporter": "python",
   "pygments_lexer": "ipython3",
   "version": "3.7.3"
  }
 },
 "nbformat": 4,
 "nbformat_minor": 2
}
